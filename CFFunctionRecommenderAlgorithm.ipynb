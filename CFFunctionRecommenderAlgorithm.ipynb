{
 "cells": [
  {
   "cell_type": "code",
   "execution_count": 2,
   "source": [
    "def getUserRatingData(userId,MoviesRatingDataSet):\n",
    "    NewUserDataSetll = MoviesRatingDataSet['userId'] == userId\n",
    "    columns = ['title','rating']\n",
    "    NewUserDataSet = MoviesRatingDataSet[NewUserDataSetll][columns]\n",
    "    NewUserDataSet.reset_index(inplace=True ,drop=True) \n",
    "    return NewUserDataSet\n",
    "def CFRecommender(AllUsersRatingDataSet,userId,MinUsersRating=100) : \n",
    "    AllUsersRating = AllUsersRatingDataSet.pivot_table(index=['userId'],columns=['title'],values='rating')\n",
    "    NewUserRating = getUserRatingData(userId,AllUsersRatingDataSet)\n",
    "    MoviesCorrelationMatrix = AllUsersRating.corr(method ='pearson',min_periods=MinUsersRating)\n",
    "    SimilarMoviesCandidates = pd.Series([],dtype=pd.StringDtype()) \n",
    "    for i in range(0,len(NewUserRating.title)):\n",
    "        #print(\"Adding Similarity For \"+NewUserRating.title[i])\n",
    "        MoviesSimilarties = MoviesCorrelationMatrix[NewUserRating.title[i]].dropna()\n",
    "        MoviesSimilarties = MoviesSimilarties.map(lambda x:x*NewUserRating.rating[i])\n",
    "        SimilarMoviesCandidates = SimilarMoviesCandidates.append(MoviesSimilarties)\n",
    "    SimilarMoviesCandidates.sort_values(inplace=True,ascending=False)\n",
    "    similarMoviesCandidates=SimilarMoviesCandidates.groupby(SimilarMoviesCandidates.index).sum()\n",
    "    similarMoviesCandidates.sort_values(inplace=True,ascending=False)\n",
    "    return similarMoviesCandidates.drop(NewUserRating.title,errors='ignore') "
   ],
   "outputs": [],
   "metadata": {}
  },
  {
   "cell_type": "code",
   "execution_count": 7,
   "source": [
    "import pandas as pd\n",
    "RatingsColumns = ['userId','movieId','rating']\n",
    "RatingsDataSet = pd.read_csv('ratings.dataset',sep='\\t',names=RatingsColumns,usecols=range(3))\n",
    "MoviesColumns = ['movieId','title']\n",
    "MoviesDataSet = pd.read_csv('movies.dataset',sep='|',names=MoviesColumns,usecols=range(2))\n",
    "MoviesRatingDataSet = pd.merge(MoviesDataSet,RatingsDataSet)"
   ],
   "outputs": [],
   "metadata": {}
  },
  {
   "cell_type": "code",
   "execution_count": 12,
   "source": [
    "UserRatingData = getUserRatingData(userId=0,MoviesRatingDataSet=MoviesRatingDataSet)"
   ],
   "outputs": [],
   "metadata": {}
  },
  {
   "cell_type": "code",
   "execution_count": 10,
   "source": [
    "UserRatingData.head()"
   ],
   "outputs": [
    {
     "output_type": "execute_result",
     "data": {
      "text/plain": [
       "                             title  rating\n",
       "0                 Toy Story (1995)       5\n",
       "1                 Star Wars (1977)       5\n",
       "2        Gone with the Wind (1939)       1\n",
       "3  Empire Strikes Back, The (1980)       5"
      ],
      "text/html": [
       "<div>\n",
       "<style scoped>\n",
       "    .dataframe tbody tr th:only-of-type {\n",
       "        vertical-align: middle;\n",
       "    }\n",
       "\n",
       "    .dataframe tbody tr th {\n",
       "        vertical-align: top;\n",
       "    }\n",
       "\n",
       "    .dataframe thead th {\n",
       "        text-align: right;\n",
       "    }\n",
       "</style>\n",
       "<table border=\"1\" class=\"dataframe\">\n",
       "  <thead>\n",
       "    <tr style=\"text-align: right;\">\n",
       "      <th></th>\n",
       "      <th>title</th>\n",
       "      <th>rating</th>\n",
       "    </tr>\n",
       "  </thead>\n",
       "  <tbody>\n",
       "    <tr>\n",
       "      <th>0</th>\n",
       "      <td>Toy Story (1995)</td>\n",
       "      <td>5</td>\n",
       "    </tr>\n",
       "    <tr>\n",
       "      <th>1</th>\n",
       "      <td>Star Wars (1977)</td>\n",
       "      <td>5</td>\n",
       "    </tr>\n",
       "    <tr>\n",
       "      <th>2</th>\n",
       "      <td>Gone with the Wind (1939)</td>\n",
       "      <td>1</td>\n",
       "    </tr>\n",
       "    <tr>\n",
       "      <th>3</th>\n",
       "      <td>Empire Strikes Back, The (1980)</td>\n",
       "      <td>5</td>\n",
       "    </tr>\n",
       "  </tbody>\n",
       "</table>\n",
       "</div>"
      ]
     },
     "metadata": {},
     "execution_count": 10
    }
   ],
   "metadata": {}
  },
  {
   "cell_type": "code",
   "execution_count": 14,
   "source": [
    "MoviesRecommendation = CFRecommender(MoviesRatingDataSet,userId=0)"
   ],
   "outputs": [],
   "metadata": {}
  },
  {
   "cell_type": "code",
   "execution_count": 15,
   "source": [
    "MoviesRecommendation.head()"
   ],
   "outputs": [
    {
     "output_type": "execute_result",
     "data": {
      "text/plain": [
       "Return of the Jedi (1983)                    8.113633\n",
       "Raiders of the Lost Ark (1981)               7.351770\n",
       "Cinderella (1950)                            5.387272\n",
       "Indiana Jones and the Last Crusade (1989)    5.252377\n",
       "Wizard of Oz, The (1939)                     4.963759\n",
       "dtype: float64"
      ]
     },
     "metadata": {},
     "execution_count": 15
    }
   ],
   "metadata": {}
  }
 ],
 "metadata": {
  "kernelspec": {
   "name": "python3",
   "display_name": "Python 3.9.7 64-bit ('base': conda)"
  },
  "language_info": {
   "codemirror_mode": {
    "name": "ipython",
    "version": 3
   },
   "file_extension": ".py",
   "mimetype": "text/x-python",
   "name": "python",
   "nbconvert_exporter": "python",
   "pygments_lexer": "ipython3",
   "version": "3.9.7"
  },
  "interpreter": {
   "hash": "f6b83054e1132c458abc6bc952aed8e7f239d03c9d9803bf8592b5ee264d7ff5"
  }
 },
 "nbformat": 4,
 "nbformat_minor": 5
}